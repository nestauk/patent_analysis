{
 "cells": [
  {
   "cell_type": "markdown",
   "metadata": {},
   "source": [
    "# Parsing IPC codes\n",
    "\n",
    "The Patstat IPC codes are missing a description. Here we seek to match them with the [IPC definitions available from WIPO](https://www.wipo.int/classifications/ipc/ipcpub/?notion=scheme&version=20190101&symbol=none&menulang=en&lang=en&viewmode=f&fipcpc=no&showdeleted=yes&indexes=no&headings=yes&notes=yes&direction=o2n&initial=A&cwid=none&tree=no&searchmode=smart)\n"
   ]
  },
  {
   "cell_type": "markdown",
   "metadata": {},
   "source": [
    "## 0. Preamble"
   ]
  },
  {
   "cell_type": "code",
   "execution_count": null,
   "metadata": {},
   "outputs": [],
   "source": [
    "%run notebook_preamble.ipy"
   ]
  },
  {
   "cell_type": "code",
   "execution_count": null,
   "metadata": {},
   "outputs": [],
   "source": [
    "from zipfile import ZipFile\n",
    "\n",
    "from io import BytesIO\n",
    "\n",
    "from bs4 import BeautifulSoup\n",
    "\n",
    "import xmltodict"
   ]
  },
  {
   "cell_type": "markdown",
   "metadata": {},
   "source": [
    "## 1. Load data\n",
    "\n",
    "#### Load the IPC code lookup\n",
    "\n",
    "\n",
    "We have a collection of text files matching detailed IPC codes with names"
   ]
  },
  {
   "cell_type": "code",
   "execution_count": null,
   "metadata": {},
   "outputs": [],
   "source": [
    "import os"
   ]
  },
  {
   "cell_type": "code",
   "execution_count": null,
   "metadata": {},
   "outputs": [],
   "source": [
    "ipc_dicts = os.listdir('../data/external/EN_ipc_title_list_20190101/')"
   ]
  },
  {
   "cell_type": "code",
   "execution_count": null,
   "metadata": {},
   "outputs": [],
   "source": [
    "cont = []\n",
    "\n",
    "for d in ipc_dicts:\n",
    "    \n",
    "    t = pd.read_table(f'../data/external/EN_ipc_title_list_20190101/{d}',delimiter='\\t',skiprows=1)\n",
    "    \n",
    "    t.columns = ['code','description']\n",
    "    \n",
    "    #print(t.head())\n",
    "    \n",
    "    descr=''\n",
    "    \n",
    "    for a_id,row in t.iterrows():\n",
    "        \n",
    "        \n",
    "        if len(row['code'])==4:\n",
    "            descr=row['description'].lower().capitalize().split('(')[0]\n",
    "            \n",
    "        else:\n",
    "            t.loc[a_id]['description']='__'.join([descr,str(row['description'])])\n",
    "        \n",
    "    \n",
    "    \n",
    "    cont.append(t)\n",
    "\n",
    "all_ipc_codes = pd.concat(cont).reset_index(drop=True)"
   ]
  },
  {
   "cell_type": "code",
   "execution_count": null,
   "metadata": {},
   "outputs": [],
   "source": [
    "all_ipc_codes['ipc_match'] = [x[:10] if len(x)>=10 else x for x in all_ipc_codes['code']]"
   ]
  },
  {
   "cell_type": "code",
   "execution_count": null,
   "metadata": {},
   "outputs": [],
   "source": [
    "all_ipc_codes.head()"
   ]
  },
  {
   "cell_type": "code",
   "execution_count": null,
   "metadata": {},
   "outputs": [],
   "source": [
    "with open('../data/external/ipc_def_lookup.json','w') as outfile:\n",
    "    json.dump(all_ipc_codes.set_index('ipc_match')['description'].to_dict(),outfile)"
   ]
  },
  {
   "cell_type": "code",
   "execution_count": null,
   "metadata": {},
   "outputs": [],
   "source": []
  },
  {
   "cell_type": "code",
   "execution_count": null,
   "metadata": {},
   "outputs": [],
   "source": []
  },
  {
   "cell_type": "code",
   "execution_count": null,
   "metadata": {},
   "outputs": [],
   "source": []
  },
  {
   "cell_type": "code",
   "execution_count": null,
   "metadata": {},
   "outputs": [],
   "source": []
  },
  {
   "cell_type": "markdown",
   "metadata": {},
   "source": [
    "#### Load the application / patent lookup"
   ]
  },
  {
   "cell_type": "code",
   "execution_count": null,
   "metadata": {},
   "outputs": [],
   "source": [
    "with open('../data/raw/20_9_2019_patent_outputs.p','rb') as infile:\n",
    "    ipc_appln = pickle.load(infile)['appln_ipc']"
   ]
  },
  {
   "cell_type": "code",
   "execution_count": null,
   "metadata": {},
   "outputs": [],
   "source": [
    "ipc_appln['ipc_class_symbol_proc'] = [re.sub(' ','0',re.sub('/','',x)) for x in ipc_appln['ipc_class_symbol']]"
   ]
  },
  {
   "cell_type": "code",
   "execution_count": null,
   "metadata": {},
   "outputs": [],
   "source": [
    "ipc_labelled = pd.merge(ipc_appln,all_ipc_codes,left_on='ipc_class_symbol_proc',right_on='ipc_10_digit')"
   ]
  },
  {
   "cell_type": "code",
   "execution_count": null,
   "metadata": {},
   "outputs": [],
   "source": [
    "ipc_labelled['description'].value_counts()"
   ]
  },
  {
   "cell_type": "code",
   "execution_count": null,
   "metadata": {},
   "outputs": [],
   "source": []
  }
 ],
 "metadata": {
  "language_info": {
   "name": "python",
   "pygments_lexer": "ipython3"
  }
 },
 "nbformat": 4,
 "nbformat_minor": 2
}
