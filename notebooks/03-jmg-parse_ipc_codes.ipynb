{
 "cells": [
  {
   "cell_type": "markdown",
   "metadata": {},
   "source": [
    "# Parsing IPC codes\n",
    "\n",
    "The Patstat IPC codes are missing a description. Here we seek to match them with the [IPC definitions available from WIPO](https://www.wipo.int/classifications/ipc/ipcpub/?notion=scheme&version=20190101&symbol=none&menulang=en&lang=en&viewmode=f&fipcpc=no&showdeleted=yes&indexes=no&headings=yes&notes=yes&direction=o2n&initial=A&cwid=none&tree=no&searchmode=smart)\n"
   ]
  },
  {
   "cell_type": "markdown",
   "metadata": {},
   "source": [
    "## 0. Preamble"
   ]
  },
  {
   "cell_type": "code",
   "execution_count": null,
   "metadata": {},
   "outputs": [],
   "source": [
    "%run notebook_preamble.ipy"
   ]
  },
  {
   "cell_type": "code",
   "execution_count": null,
   "metadata": {},
   "outputs": [],
   "source": [
    "from zipfile import ZipFile\n",
    "\n",
    "from io import BytesIO\n",
    "\n",
    "from bs4 import BeautifulSoup\n",
    "\n",
    "import xmltodict"
   ]
  },
  {
   "cell_type": "markdown",
   "metadata": {},
   "source": [
    "## 1. Load data\n",
    "\n",
    "#### Load the IPC code lookup\n",
    "\n",
    "\n",
    "We have a collection of text files matching detailed IPC codes with names"
   ]
  },
  {
   "cell_type": "code",
   "execution_count": null,
   "metadata": {},
   "outputs": [],
   "source": [
    "import os"
   ]
  },
  {
   "cell_type": "code",
   "execution_count": null,
   "metadata": {},
   "outputs": [],
   "source": [
    "ipc_dicts = os.listdir('../data/external/EN_ipc_title_list_20190101/')"
   ]
  },
  {
   "cell_type": "code",
   "execution_count": null,
   "metadata": {},
   "outputs": [],
   "source": [
    "cont = []\n",
    "\n",
    "#This is a very crude function to parse the patent data: it goes through every txt file, removes useless guff at the top and append the text \n",
    "# description of a subclass to the description of the more detailed text to make things more interpretable\n",
    "\n",
    "for d in ipc_dicts:\n",
    "    \n",
    "    t = pd.read_table(f'../data/external/EN_ipc_title_list_20190101/{d}',delimiter='\\t',skiprows=1)\n",
    "    \n",
    "    t.columns = ['code','description']\n",
    "    \n",
    "    #print(t.head())\n",
    "    \n",
    "    descr=''\n",
    "    \n",
    "    for a_id,row in t.iterrows():\n",
    "        \n",
    "        \n",
    "        if len(row['code'])==4:\n",
    "            descr=row['description'].lower().capitalize().split('(')[0]\n",
    "            \n",
    "        else:\n",
    "            t.loc[a_id]['description']='__'.join([descr,str(row['description'])])\n",
    "        \n",
    "    \n",
    "    \n",
    "    cont.append(t)\n",
    "\n",
    "all_ipc_codes = pd.concat(cont).reset_index(drop=True)"
   ]
  },
  {
   "cell_type": "code",
   "execution_count": null,
   "metadata": {},
   "outputs": [],
   "source": [
    "#We truncate the codes so we can match them with the PATSTAT data (most codes there are 10-digits long)\n",
    "all_ipc_codes['ipc_match'] = [x[:10] if len(x)>=10 else x for x in all_ipc_codes['code']]"
   ]
  },
  {
   "cell_type": "code",
   "execution_count": null,
   "metadata": {},
   "outputs": [],
   "source": [
    "all_ipc_codes.head()"
   ]
  },
  {
   "cell_type": "code",
   "execution_count": null,
   "metadata": {},
   "outputs": [],
   "source": [
    "with open('../data/external/ipc_def_lookup.json','w') as outfile:\n",
    "    json.dump(all_ipc_codes.set_index('ipc_match')['description'].to_dict(),outfile)"
   ]
  }
 ],
 "metadata": {
  "language_info": {
   "name": "python",
   "pygments_lexer": "ipython3"
  }
 },
 "nbformat": 4,
 "nbformat_minor": 2
}
