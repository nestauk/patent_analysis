{
 "cells": [
  {
   "cell_type": "code",
   "execution_count": null,
   "metadata": {},
   "outputs": [],
   "source": []
  },
  {
   "cell_type": "code",
   "execution_count": null,
   "metadata": {},
   "outputs": [],
   "source": [
    "ipc_req = requests.get('https://www.wipo.int/ipc/itos4ipc/ITSupport_and_download_area//20190101/MasterFiles/ipc_definitions_20190101.zip')\n",
    "\n",
    "ipc_zip = ZipFile(BytesIO(ipc_req.content))\n"
   ]
  },
  {
   "cell_type": "code",
   "execution_count": null,
   "metadata": {},
   "outputs": [],
   "source": [
    "ipc_en = ipc_zip.extract('EN_ipc_definitions_20190101.xml')"
   ]
  },
  {
   "cell_type": "code",
   "execution_count": null,
   "metadata": {},
   "outputs": [],
   "source": [
    "ipc_en = ipc_zip.open('EN_ipc_definitions_20190101.xml').read()"
   ]
  },
  {
   "cell_type": "code",
   "execution_count": null,
   "metadata": {},
   "outputs": [],
   "source": [
    "ipc_parsed = xmltodict.parse(ipc_en)"
   ]
  },
  {
   "cell_type": "code",
   "execution_count": null,
   "metadata": {},
   "outputs": [],
   "source": [
    "ipc_parsed['IPCDefinitions']['IPCDefinitionsSection'][0]['IPCDefinitionsClass'][0]['IPCDefinitionsSubclass'][1]['IPC-DEFINI']"
   ]
  }
 ],
 "metadata": {
  "language_info": {
   "name": "python",
   "pygments_lexer": "ipython3"
  }
 },
 "nbformat": 4,
 "nbformat_minor": 2
}
